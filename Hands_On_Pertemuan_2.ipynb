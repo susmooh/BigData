{
 "cells": [
  {
   "cell_type": "markdown",
   "id": "ac766966",
   "metadata": {},
   "source": [
    "# Hands-On Pertemuan 2: Instalasi dan Konfigurasi Hadoop serta Struktur HDFS"
   ]
  },
  {
   "cell_type": "markdown",
   "id": "233c2d52",
   "metadata": {},
   "source": [
    "## Tujuan:\n",
    "- Memahami langkah-langkah instalasi dan konfigurasi Hadoop.\n",
    "- Mempraktikkan bagaimana menggunakan Hadoop dan memahami struktur HDFS.\n",
    "- Mengeksplorasi command line interface (CLI) Hadoop dan melakukan operasi dasar pada HDFS."
   ]
  },
  {
   "cell_type": "markdown",
   "id": "b7c7a499",
   "metadata": {},
   "source": [
    "### 1. Instalasi Hadoop di Mode Standalone\n",
    "1. **Unduh Hadoop**: Kunjungi [Apache Hadoop](https://hadoop.apache.org/releases.html) untuk mengunduh versi terbaru.\n",
    "2. **Ekstrak dan Setup**: Tambahkan Hadoop ke dalam `$PATH` dan konfigurasi environment variable.\n",
    "   ```bash\n",
    "   export HADOOP_HOME=/path/to/hadoop\n",
    "   export PATH=$PATH:$HADOOP_HOME/bin\n",
    "   export JAVA_HOME=/path/to/java\n",
    "   ```\n",
    "3. **Format HDFS**: Format Hadoop file system dengan:\n",
    "   ```bash\n",
    "   hdfs namenode -format\n",
    "   ```\n",
    "4. **Start Hadoop**: Jalankan Hadoop dengan perintah:\n",
    "   ```bash\n",
    "   start-dfs.sh\n",
    "   ```\n",
    "- **Tugas 1**: Format HDFS dan jalankan dalam mode standalone. Verifikasi dengan menjalankan perintah `hadoop version`."
   ]
  },
  {
   "cell_type": "markdown",
   "id": "31c5ffee",
   "metadata": {},
   "source": [
    "### 2. Struktur HDFS dan Operasi Dasar\n",
    "HDFS merupakan file system terdistribusi yang memungkinkan penyimpanan dan pemrosesan data besar secara paralel.\n",
    "- **Operasi Dasar HDFS**:\n",
    "   - Buat direktori baru di HDFS:\n",
    "   ```bash\n",
    "   hdfs dfs -mkdir /user/student\n",
    "   ```\n",
    "   - Unggah file ke HDFS:\n",
    "   ```bash\n",
    "   hdfs dfs -put input.txt /user/student/\n",
    "   ```\n",
    "   - Tampilkan file yang telah diunggah:\n",
    "   ```bash\n",
    "   hdfs dfs -ls /user/student/\n",
    "   ```\n",
    "- **Tugas 2**: Buat direktori di HDFS, upload file teks, tampilkan konten file, dan hapus file tersebut."
   ]
  },
  {
   "cell_type": "markdown",
   "id": "4f155c9b",
   "metadata": {},
   "source": [
    "### 3. Operasi File di HDFS\n",
    "Lakukan operasi pada file yang telah diunggah:\n",
    "1. **Melihat Konten File**:\n",
    "   ```bash\n",
    "   hdfs dfs -cat /user/student/input.txt\n",
    "   ```\n",
    "2. **Menduplikasi File**:\n",
    "   ```bash\n",
    "   hdfs dfs -cp /user/student/input.txt /user/student/input_copy.txt\n",
    "   ```\n",
    "3. **Menghapus File dari HDFS**:\n",
    "   ```bash\n",
    "   hdfs dfs -rm /user/student/input_copy.txt\n",
    "   ```\n",
    "- **Tugas 3**: Lakukan operasi untuk menampilkan konten file, menduplikasi, dan menghapus file di HDFS."
   ]
  },
  {
   "cell_type": "markdown",
   "id": "5c979e38",
   "metadata": {},
   "source": [
    "### 4. Menganalisis Struktur Penyimpanan di HDFS\n",
    "Untuk memahami bagaimana HDFS mengelola penyimpanan, gunakan perintah berikut:\n",
    "- **Menampilkan informasi penyimpanan HDFS**:\n",
    "   ```bash\n",
    "   hdfs dfsadmin -report\n",
    "   ```\n",
    "- **Menampilkan status block**:\n",
    "   ```bash\n",
    "   hdfs fsck / -files -blocks -locations\n",
    "   ```\n",
    "- **Tugas 4**: Lakukan analisis pada struktur penyimpanan di HDFS dan tuliskan laporan berdasarkan hasil dari `hdfs dfsadmin -report`."
   ]
  },
  {
   "cell_type": "markdown",
   "id": "179e5ca0",
   "metadata": {},
   "source": [
    "### 5. Tugas Tambahan: Integrasi Hadoop dengan Spark\n",
    "- Coba instal Spark dan konfigurasi dengan Hadoop. Lakukan operasi sederhana untuk memproses data menggunakan Spark yang tersimpan di HDFS."
   ]
  },
  {
   "cell_type": "code",
   "execution_count": 1,
   "id": "9fcfe9b3",
   "metadata": {},
   "outputs": [],
   "source": [
    "#mengimpor sparksession dari pyspark\n",
    "from pyspark.sql import SparkSession"
   ]
  },
  {
   "cell_type": "code",
   "execution_count": 2,
   "id": "8b974f21",
   "metadata": {},
   "outputs": [],
   "source": [
    "#memulai dan mengelola aplikasi PySpark.\n",
    "sparkSession = SparkSession.builder.appName(\"contoh-pyspark\").getOrCreate()"
   ]
  },
  {
   "cell_type": "code",
   "execution_count": 3,
   "id": "9df9a63a",
   "metadata": {},
   "outputs": [
    {
     "name": "stdout",
     "output_type": "stream",
     "text": [
      "+-----+---------------+----------+---------+--------------------+-----------------+--------------------+--------------------+--------------------+--------------------+-----------------+--------------------+\n",
      "|  _c0|            _c1|       _c2|      _c3|                 _c4|              _c5|                 _c6|                 _c7|                 _c8|                 _c9|             _c10|                _c11|\n",
      "+-----+---------------+----------+---------+--------------------+-----------------+--------------------+--------------------+--------------------+--------------------+-----------------+--------------------+\n",
      "|Index|    Customer Id|First Name|Last Name|             Company|             City|             Country|             Phone 1|             Phone 2|               Email|Subscription Date|             Website|\n",
      "|    1|DD37Cf93aecA6Dc|    Sheryl|   Baxter|     Rasmussen Group|     East Leonard|               Chile|        229.077.5154|    397.884.0519x718|zunigavanessa@smi...|       2020-08-24|http://www.stephe...|\n",
      "|    2|1Ef7b82A4CAAD10|   Preston|   Lozano|         Vega-Gentry|East Jimmychester|            Djibouti|          5153435776|    686-620-1820x944|     vmata@colon.com|       2021-04-23|http://www.hobbs....|\n",
      "|    3|6F94879bDAfE5a6|       Roy|    Berry|       Murillo-Perry|    Isabelborough| Antigua and Barbuda|     +1-539-402-0259| (496)978-3969x58947| beckycarr@hogan.com|       2020-03-25|http://www.lawren...|\n",
      "|    4|5Cef8BFA16c5e3c|     Linda|    Olsen|Dominguez, Mcmill...|       Bensonview|  Dominican Republic|001-808-617-6467x...|     +1-813-324-8756|stanleyblackwell@...|       2020-06-02|http://www.good-l...|\n",
      "|    5|053d585Ab6b3159|    Joanna|   Bender|Martin, Lang and ...|   West Priscilla|Slovakia (Slovak ...|001-234-203-0635x...|001-199-446-3860x...|colinalvarado@mil...|       2021-04-17|https://goodwin-i...|\n",
      "|    6|2d08FB17EE273F4|     Aimee|    Downs|        Steele Group|    Chavezborough|Bosnia and Herzeg...| (283)437-3886x88321|        999-728-1637| louis27@gilbert.com|       2020-02-25|http://www.berger...|\n",
      "|    7|EA4d384DfDbBf77|    Darren|     Peck|Lester, Woodard a...|         Lake Ana|    Pitcairn Islands|  (496)452-6181x3291|+1-247-266-0963x4995| tgates@cantrell.com|       2021-08-24| https://www.le.com/|\n",
      "|    8|0e04AFde9f225dE|     Brett|   Mullen|Sanford, Davenpor...|          Kimport|            Bulgaria|001-583-352-7197x297|    001-333-145-0369|     asnow@colon.com|       2021-04-12|https://hammond-r...|\n",
      "|    9|C2dE4dEEc489ae0|    Sheryl|   Meyers|      Browning-Simon|     Robersonstad|              Cyprus|   854-138-4911x5772| +1-448-910-2276x729|mariokhan@ryan-po...|       2020-01-13|https://www.bullo...|\n",
      "|   10|8C2811a503C7c5a|  Michelle|Gallagher|        Beck-Hendrix|       Elaineberg|         Timor-Leste|    739.218.2516x459|001-054-401-0347x617|   mdyer@escobar.net|       2021-11-08|  https://arias.com/|\n",
      "|   11|216E205d6eBb815|      Carl|Schroeder|Oconnell, Meza an...|     Shannonville|            Guernsey|    637-854-0256x825|    114.336.0784x788|  kirksalas@webb.com|       2021-10-20|https://simmons-h...|\n",
      "|   12|CEDec94deE6d69B|     Jenna|   Dodson|Hoffman, Reed and...|      East Andrea|             Vietnam|       (041)737-3846|+1-556-888-3485x4...|  mark42@robbins.com|       2020-11-29|http://www.dougla...|\n",
      "|   13|e35426EbDEceaFF|    Tracey|     Mata|      Graham-Francis|South Joannamouth|                Togo|    001-949-844-8787|       (855)713-8773|    alex56@walls.org|       2021-12-02|http://www.beck.com/|\n",
      "|   14|A08A8aF8BE9FaD4|  Kristine|      Cox|      Carpenter-Cook|         Jodyberg|           Sri Lanka|  786-284-3358x62152|+1-315-627-1796x8074|holdenmiranda@cla...|       2021-02-08|https://www.brand...|\n",
      "|   15|6fEaA1b7cab7B6C|     Faith|     Lutz|      Carter-Hancock|        Burchbury|           Singapore|  (781)861-7180x8306|        207-185-3665|cassieparrish@ble...|       2022-01-26|http://stevenson....|\n",
      "|   16|8cad0b4CBceaeec|   Miranda|  Beasley|  Singleton and Sons|     Desireeshire|                Oman|    540.085.3135x185|+1-600-462-6432x2...|vduncan@parks-har...|       2022-04-12|  http://acosta.org/|\n",
      "|   17|a5DC21AE3a21eaA|  Caroline|    Foley|     Winters-Mendoza|West Adriennestad|      Western Sahara|   936.222.4746x9924|001-469-948-6341x359|holtgwendolyn@wat...|       2021-03-10|http://www.benson...|\n",
      "|   18|F8Aa9d6DfcBeeF8|      Greg|     Mata|       Valentine LLC|      Lake Leslie|          Mozambique|       (701)087-2415| (195)156-1861x26241|jaredjuarez@carro...|       2022-03-26|http://pitts-cher...|\n",
      "|   19|F160f5Db3EfE973|  Clifford| Jacobson|           Simon LLC|       Harmonview|South Georgia and...|001-151-330-3524x...|       (748)477-7174|joseph26@jacobson...|       2020-09-24|https://mcconnell...|\n",
      "+-----+---------------+----------+---------+--------------------+-----------------+--------------------+--------------------+--------------------+--------------------+-----------------+--------------------+\n",
      "only showing top 20 rows\n",
      "\n"
     ]
    }
   ],
   "source": [
    "# membaca CSV file dari HDFS.\n",
    "df_load = sparkSession.read.csv('hdfs://localhost:9820/adnan/*.csv')\n",
    "df_load.show()"
   ]
  }
 ],
 "metadata": {
  "kernelspec": {
   "display_name": "BigDataBolo",
   "language": "python",
   "name": "python3"
  },
  "language_info": {
   "codemirror_mode": {
    "name": "ipython",
    "version": 3
   },
   "file_extension": ".py",
   "mimetype": "text/x-python",
   "name": "python",
   "nbconvert_exporter": "python",
   "pygments_lexer": "ipython3",
   "version": "3.11.9"
  }
 },
 "nbformat": 4,
 "nbformat_minor": 5
}
