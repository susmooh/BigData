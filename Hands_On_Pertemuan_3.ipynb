{
 "cells": [
  {
   "cell_type": "markdown",
   "id": "c1b3626a",
   "metadata": {},
   "source": [
    "# Hands-On Pertemuan 3: Implementasi MapReduce Sederhana"
   ]
  },
  {
   "cell_type": "markdown",
   "id": "8c4b8be5",
   "metadata": {},
   "source": [
    "## Tujuan:\n",
    "- Memahami konsep MapReduce dalam distribusi data besar.\n",
    "- Mengimplementasikan algoritma sederhana menggunakan MapReduce pada Hadoop.\n",
    "- Melakukan analisis hasil MapReduce pada dataset."
   ]
  },
  {
   "cell_type": "markdown",
   "id": "090da41e",
   "metadata": {},
   "source": [
    "### 1. Pengenalan MapReduce\n",
    "MapReduce adalah model pemrograman yang digunakan untuk pemrosesan data besar secara paralel di beberapa node dalam kluster Hadoop.\n",
    "- **Map**: Fase pertama di mana data dipecah menjadi unit-unit kecil (key-value pairs).\n",
    "- **Reduce**: Fase kedua di mana hasil dari fase Map dikombinasikan untuk menghasilkan output yang lebih kecil.\n",
    "\n",
    "- **Tugas 1**: Pelajari bagaimana MapReduce bekerja dengan dataset sederhana dan coba implementasikan konsep key-value pair."
   ]
  },
  {
   "cell_type": "markdown",
   "id": "7190ed74",
   "metadata": {},
   "source": [
    "### 2. Implementasi Sederhana: Word Count\n",
    "Algoritma Word Count adalah salah satu contoh sederhana dari MapReduce. Dalam tugas ini, kita akan menghitung jumlah kata dalam dataset.\n",
    "\n",
    "1. **Map Function**: Fungsi yang memecah teks menjadi kata-kata individual.\n",
    "   ```python\n",
    "   def map_function(text):\n",
    "       for word in text.split():\n",
    "           yield (word, 1)\n",
    "   ```\n",
    "2. **Reduce Function**: Fungsi yang menggabungkan hasil dari fase Map untuk menghitung frekuensi kata.\n",
    "   ```python\n",
    "   from collections import defaultdict\n",
    "\n",
    "   def reduce_function(pairs):\n",
    "       result = defaultdict(int)\n",
    "       for word, count in pairs:\n",
    "           result[word] += count\n",
    "       return result\n",
    "   ```\n",
    "- **Tugas 2**: Implementasikan fungsi `map_function` dan `reduce_function` pada dataset teks sederhana, lalu hitung jumlah kata."
   ]
  },
  {
   "cell_type": "code",
   "execution_count": 1,
   "id": "00a1072e",
   "metadata": {},
   "outputs": [
    {
     "name": "stdout",
     "output_type": "stream",
     "text": [
      "Jumlah kata: defaultdict(<class 'int'>, {'Cristiano': 1, 'Ronaldo': 2, 'dan': 1, 'Lionel': 1, 'Messi': 2, 'adalah': 1, 'GOAT': 1, '(Greates': 1, 'of': 1, 'All': 1, 'Time).': 1, 'Namun': 1, 'ternyata': 1, 'setelah': 1, 'mendapat': 1, 'Pildun,': 1, 'nangis': 1, 'di': 1, 'bangku': 1, 'cadangan': 1})\n"
     ]
    }
   ],
   "source": [
    "# 1. Definisi Map Function\n",
    "def map_function(text):\n",
    "    for word in text.split():\n",
    "        yield (word, 1)\n",
    "\n",
    "# 2. Definisi Reduce Function\n",
    "from collections import defaultdict\n",
    "\n",
    "def reduce_function(pairs):\n",
    "    result = defaultdict(int)\n",
    "    for word, count in pairs:\n",
    "        result[word] += count\n",
    "    return result\n",
    "\n",
    "# Fungsi untuk membaca file teks\n",
    "def read_file(file_path):\n",
    "    with open(file_path, 'r') as file:\n",
    "        text_data = file.readlines()\n",
    "    return text_data\n",
    "\n",
    "# Path ke file teks\n",
    "file_path = 'tugasbigdata.txt'  # Sesuaikan dengan lokasi file Anda\n",
    "\n",
    "# Membaca data dari file\n",
    "text_data = read_file(file_path)\n",
    "\n",
    "# Langkah Map: Memetakan setiap kalimat ke dalam pasangan (word, 1)\n",
    "mapped_data = []\n",
    "for text in text_data:\n",
    "    mapped_data.extend(map_function(text))\n",
    "\n",
    "# Langkah Reduce: Menghitung total kemunculan setiap kata\n",
    "word_count = reduce_function(mapped_data)\n",
    "\n",
    "print(\"Jumlah kata:\", word_count)\n"
   ]
  },
  {
   "cell_type": "markdown",
   "id": "5d79ab57",
   "metadata": {},
   "source": [
    "### 3. Menjalankan Word Count di Hadoop\n",
    "1. Siapkan file teks yang ingin dihitung jumlah katanya.\n",
    "   ```bash\n",
    "   hdfs dfs -put input.txt /user/student/input/\n",
    "   ```\n",
    "2. Jalankan perintah MapReduce pada file tersebut:\n",
    "   ```bash\n",
    "   hadoop jar $HADOOP_HOME/share/hadoop/mapreduce/hadoop-mapreduce-examples-*.jar wordcount /user/student/input/ /user/student/output/\n",
    "   ```\n",
    "3. Tampilkan hasilnya:\n",
    "   ```bash\n",
    "   hdfs dfs -cat /user/student/output/part-r-00000\n",
    "   ```\n",
    "- **Tugas 3**: Upload file teks ke HDFS, jalankan perintah MapReduce Word Count, dan tampilkan hasilnya."
   ]
  },
  {
   "cell_type": "markdown",
   "id": "24a3bcdf",
   "metadata": {},
   "source": [
    "### 4. Menganalisis Dataset Besar\n",
    "Untuk memperdalam pemahaman, kita akan menjalankan algoritma MapReduce pada dataset yang lebih besar.\n",
    "- Pilih dataset besar yang dapat diunduh dari [Kaggle](https://www.kaggle.com/) atau sumber lain.\n",
    "- Jalankan Word Count pada dataset besar tersebut dan analisis hasilnya.\n",
    "\n",
    "- **Tugas 4**: Cari dataset besar, jalankan MapReduce untuk menghitung kata, dan buat laporan analisis hasil."
   ]
  },
  {
   "cell_type": "markdown",
   "id": "85612e13",
   "metadata": {},
   "source": [
    "### 5. Tugas Tambahan: Custom MapReduce Algorithm\n",
    "- Buat algoritma MapReduce lainnya, seperti menghitung rata-rata nilai, atau menghitung frekuensi kemunculan elemen tertentu di dalam dataset."
   ]
  },
  {
   "cell_type": "code",
   "execution_count": null,
   "id": "6f422ab1",
   "metadata": {},
   "outputs": [],
   "source": [
    "from collections import defaultdict\n",
    "\n",
    "# Fungsi untuk membaca file teks\n",
    "def read_file(file_path):\n",
    "    # Baca setiap baris dan pisahkan berdasarkan titik koma (CSV)\n",
    "    with open(file_path, 'r') as file:\n",
    "        text_data = [line.strip().split(';') for line in file.readlines()]\n",
    "    return text_data\n",
    "\n",
    "# Fungsi untuk memetakan negara menjadi pasangan (negara, 1)\n",
    "def map_function(text):\n",
    "    # Ambil kolom ketiga (CountryName) dan kelima (Year) jika tersedia\n",
    "    if len(text) >= 6 and text[2].strip() and text[4].strip():  # Pastikan kolom CountryName dan Year tidak kosong\n",
    "        country = text[2].strip()\n",
    "        year = text[4].strip()\n",
    "        return [(country, 1)]  # Kembalikan pasangan (CountryName, 1)\n",
    "    return []\n",
    "\n",
    "# Fungsi untuk menggabungkan jumlah kemunculan setiap negara\n",
    "def reduce_function(mapped_data):\n",
    "    country_count = defaultdict(int)\n",
    "    for country, count in mapped_data:\n",
    "        country_count[country] += count\n",
    "    return dict(country_count)\n",
    "\n",
    "# Path ke file teks\n",
    "file_path = 'EconomyData.csv'  # Sesuaikan dengan lokasi file Anda\n",
    "\n",
    "# Membaca data dari file\n",
    "text_data = read_file(file_path)\n",
    "\n",
    "# Langkah Map: Memetakan setiap negara ke dalam pasangan (negara, 1)\n",
    "mapped_data = []\n",
    "for row in text_data[1:]:  # Skip header baris pertama\n",
    "    mapped_data.extend(map_function(row))\n",
    "\n",
    "# Langkah Reduce: Menghitung jumlah kemunculan setiap negara\n",
    "country_count = reduce_function(mapped_data)\n",
    "\n",
    "# Menghitung total kemunculan semua negara\n",
    "total_occurrences = sum(country_count.values())\n",
    "\n",
    "# Menghitung rata-rata kemunculan per negara\n",
    "average_occurrences = total_occurrences / len(country_count)\n",
    "\n",
    "# Menampilkan hasil setiap negara dan jumlah kemunculannya serta rata-rata\n",
    "print(\"Country | Jumlah Kemunculan | Rata-rata Kemunculan\")\n",
    "print(\"-\" * 50)\n",
    "for country, count in country_count.items():\n",
    "    print(f\"{country}: {count} | {(count / total_occurrences):.2%}\")\n",
    "\n",
    "# Menampilkan total dan rata-rata kemunculan\n",
    "print(f\"\\nTotal Kemunculan Semua Negara: {total_occurrences}\")\n"
   ]
  }
 ],
 "metadata": {
  "kernelspec": {
   "display_name": "Python 3",
   "language": "python",
   "name": "python3"
  },
  "language_info": {
   "codemirror_mode": {
    "name": "ipython",
    "version": 3
   },
   "file_extension": ".py",
   "mimetype": "text/x-python",
   "name": "python",
   "nbconvert_exporter": "python",
   "pygments_lexer": "ipython3",
   "version": "3.11.9"
  }
 },
 "nbformat": 4,
 "nbformat_minor": 5
}
