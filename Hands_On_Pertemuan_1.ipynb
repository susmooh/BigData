{
 "cells": [
  {
   "cell_type": "markdown",
   "id": "10c25d6f",
   "metadata": {
    "id": "10c25d6f"
   },
   "source": [
    "# Hands-On Pertemuan 1: Pengenalan Big Data dan Overview Teknologi"
   ]
  },
  {
   "cell_type": "markdown",
   "id": "7117dfdb",
   "metadata": {
    "id": "7117dfdb"
   },
   "source": [
    "## Tujuan\n",
    "Pada akhir praktikum ini, mahasiswa diharapkan mampu:\n",
    "1. Memahami konsep dasar Big Data.\n",
    "2. Menjelaskan karakteristik dan tantangan Big Data (Volume, Variety, Velocity, dan Veracity).\n",
    "3. Mengenal teknologi yang digunakan dalam ekosistem Big Data.\n",
    "4. Menginstal dan mengonfigurasi Anaconda untuk bekerja dengan alat Big Data seperti Hadoop dan Spark.\n",
    "5. Memulai praktik sederhana terkait pengolahan data menggunakan PySpark dan Pandas."
   ]
  },
  {
   "cell_type": "markdown",
   "id": "7e805141",
   "metadata": {
    "id": "7e805141"
   },
   "source": [
    "## Peralatan yang Dibutuhkan\n",
    "1. Anaconda (untuk manajemen lingkungan)\n",
    "2. Jupyter Notebook (bawaan dari Anaconda)\n",
    "3. PySpark (untuk pemrosesan data skala besar)\n",
    "4. Pandas (untuk data analysis)\n",
    "5. Python (bawaan dari Anaconda)"
   ]
  },
  {
   "cell_type": "code",
   "execution_count": null,
   "id": "3xmH7-KgH-TH",
   "metadata": {
    "id": "3xmH7-KgH-TH"
   },
   "outputs": [],
   "source": []
  },
  {
   "cell_type": "markdown",
   "id": "8daa78a0",
   "metadata": {
    "id": "8daa78a0"
   },
   "source": [
    "## Langkah-Langkah Hands-On"
   ]
  },
  {
   "cell_type": "markdown",
   "id": "23b963c0",
   "metadata": {
    "id": "23b963c0"
   },
   "source": [
    "### 1. Instalasi Anaconda\n",
    "- **Langkah 1: Unduh dan Instal Anaconda**\n",
    "  <br>Anaconda adalah platform distribusi Python yang menyertakan berbagai alat pengembangan, termasuk Jupyter Notebook. Ikuti langkah-langkah instalasi sesuai sistem operasi:\n",
    "  - Unduh Anaconda: [Download Anaconda](https://www.anaconda.com/products/individual)\n",
    "  - Instal sesuai instruksi yang ada di situs web tersebut (Windows/Mac/Linux).\n",
    "  - Klik 2x pada installer dan tekan next next hingga instalasi selesai\n",
    "  <br>\n",
    "\n",
    "- **Langkah 2: Menginstal PySpark di Anaconda**\n",
    "  <br>Setelah Anaconda terinstal, Pertama tama tambahkan environment baru untuk praktikum big data ini yang nantinya diinstal packages - packages yang diperlukan untuk melakukan pengolahan data. Environment yang saya gunakan menggunakan versi python 3.11.9 karena versi terbaru masih ditemukan beberapa bug. Kemudian setelah environment terinstall klik tombol hijau pada environment saat ini. Kemudian open in Terminal dan ketikkan perintah berikut:\n",
    "  <br>\n",
    "  ```bash\n",
    "  pip install pyspark==3.4.1\n",
    "  ```\n",
    "\n",
    "- **Langkah 3: Menginstal Pandas**\n",
    "  Untuk memudahkan data analysis, install Pandas:\n",
    "  ```bash\n",
    "  pip install pandas\n",
    "  ```\n",
    "\n",
    "- **Langkah 4: Menginstal Findspark**\n",
    "  ```bash\n",
    "  pip install findspark\n",
    "  ```\n",
    "\n",
    "- **Langkah 5: Install Open JDK**\n",
    "  <br>Saat instalasi open jdk saya menginstallnya dari anaconda langsung di bagian environment --> Search packages --> cari openjdk --> lakukan instalasi"
   ]
  },
  {
   "cell_type": "markdown",
   "id": "208f1a45",
   "metadata": {
    "id": "208f1a45"
   },
   "source": [
    "### 2. Pengenalan dan Praktik Dasar PySpark dan Pandas\n",
    "- **Langkah 1: Membuka Jupyter Notebook (disini saya via VScode)**\n",
    "  <br>Setelah instalasi selesai, buka VScode melalui Anaconda Navigator.\n",
    "\n",
    "- **Langkah 2: Membuat atau membuka file ipynb**\n",
    "  <br> Kemudian pilih file ipynb yang akan digunakan. Jangan lupa untuk menambahkan environment yang telah dibuat tadi untuk digunakan didalam file ipynb ini.\n",
    "\n",
    "- **Langkah 3: Praktik dengan PySpark**\n",
    "  <br>Buat program sederhana untuk memulai dengan PySpark. Gunakan PySpark untuk membuat DataFrame dan memanipulasi data sederhana:"
   ]
  },
  {
   "cell_type": "code",
   "execution_count": 6,
   "id": "KERSZShIH_aN",
   "metadata": {
    "id": "KERSZShIH_aN"
   },
   "outputs": [],
   "source": [
    "# Mengimpor pustaka findspark\n",
    "import findspark\n",
    "\n",
    "# Menginisialisasi findspark untuk menemukan direktori Spark di sistem\n",
    "findspark.init()\n"
   ]
  },
  {
   "cell_type": "code",
   "execution_count": 10,
   "id": "f78a5053",
   "metadata": {
    "id": "f78a5053"
   },
   "outputs": [
    {
     "name": "stdout",
     "output_type": "stream",
     "text": [
      "+-----+----+\n",
      "| Nama|Usia|\n",
      "+-----+----+\n",
      "|  Ali|  34|\n",
      "| Budi|  23|\n",
      "|Citra|  29|\n",
      "| Dina|  45|\n",
      "+-----+----+\n",
      "\n"
     ]
    }
   ],
   "source": [
    "from pyspark.sql import SparkSession\n",
    "\n",
    "# Memulai Spark session\n",
    "spark = SparkSession.builder.appName(\"BigDataPractice\").getOrCreate()\n",
    "\n",
    "# Membuat DataFrame sederhana\n",
    "data = [(\"Ali\", 34), (\"Budi\", 23), (\"Citra\", 29), (\"Dina\", 45)]\n",
    "columns = [\"Nama\", \"Usia\"]\n",
    "df = spark.createDataFrame(data, columns)\n",
    "\n",
    "# Menampilkan DataFrame\n",
    "df.show()\n"
   ]
  },
  {
   "cell_type": "markdown",
   "id": "8747276f",
   "metadata": {
    "id": "8747276f"
   },
   "source": [
    "- **Tugas 1**: Jalankan kode di atas dan buat modifikasi dengan menambahkan data lain berupa kolom pekerjaan, hobi dan gender."
   ]
  },
  {
   "cell_type": "code",
   "execution_count": 11,
   "id": "2b8d7dbe",
   "metadata": {},
   "outputs": [
    {
     "name": "stdout",
     "output_type": "stream",
     "text": [
      "+-----+----+---------+----------+---------+\n",
      "| Nama|Usia|Pekerjaan|      Hobi|   Gender|\n",
      "+-----+----+---------+----------+---------+\n",
      "|  Ali|  34|    Pilot|   Mancing|   Kustom|\n",
      "| Budi|  23|     Chef|   Memasak|Laki-laki|\n",
      "|Citra|  29|   Artist|Menggambar|Perempuan|\n",
      "| Dina|  45| Penyanyi|    Nyanyi|Perempuan|\n",
      "+-----+----+---------+----------+---------+\n",
      "\n"
     ]
    }
   ],
   "source": [
    "# Mengimpor SparkSession dari pustaka pyspark.sql\n",
    "from pyspark.sql import SparkSession\n",
    "\n",
    "# Memulai sesi Spark dengan nama aplikasi \"BigDataPractice\"\n",
    "spark = SparkSession.builder.appName(\"BigDataPractice\").getOrCreate()\n",
    "\n",
    "# Membuat dataset sederhana dalam bentuk list of tuples, setiap tuple berisi informasi tentang Nama, Usia, Pekerjaan, Hobi, dan Gender\n",
    "data = [(\"Ali\", 34,\"Pilot\",\"Mancing\",\"Kustom\"), \n",
    "        (\"Budi\", 23,\"Chef\",\"Memasak\",\"Laki-laki\"), \n",
    "        (\"Citra\", 29,\"Artist\",\"Menggambar\",\"Perempuan\"), \n",
    "        (\"Dina\", 45,\"Penyanyi\",\"Nyanyi\",\"Perempuan\")]\n",
    "\n",
    "# Mendefinisikan kolom untuk DataFrame\n",
    "columns = [\"Nama\", \"Usia\", \"Pekerjaan\", \"Hobi\", \"Gender\"]\n",
    "\n",
    "# Membuat DataFrame dari data dan kolom yang telah didefinisikan menggunakan Spark\n",
    "df = spark.createDataFrame(data, columns)\n",
    "\n",
    "# Menampilkan isi DataFrame di konsol\n",
    "df.show()\n"
   ]
  },
  {
   "cell_type": "markdown",
   "id": "1f84a333",
   "metadata": {
    "id": "1f84a333"
   },
   "source": [
    "### 3. Praktik PySpark Lanjutan\n",
    "- **Latihan 1**: Memanipulasi Data dengan PySpark."
   ]
  },
  {
   "cell_type": "code",
   "execution_count": 12,
   "id": "1f391ed5",
   "metadata": {
    "id": "1f391ed5"
   },
   "outputs": [
    {
     "name": "stdout",
     "output_type": "stream",
     "text": [
      "+-----+----+\n",
      "| Nama|Usia|\n",
      "+-----+----+\n",
      "|  Ali|  34|\n",
      "| Budi|  23|\n",
      "|Citra|  29|\n",
      "| Dina|  45|\n",
      "+-----+----+\n",
      "\n",
      "+-----+----+\n",
      "| Nama|Usia|\n",
      "+-----+----+\n",
      "|  Ali|  34|\n",
      "| Budi|  23|\n",
      "|Citra|  29|\n",
      "| Dina|  45|\n",
      "+-----+----+\n",
      "\n",
      "+---------+\n",
      "|avg(Usia)|\n",
      "+---------+\n",
      "|    32.75|\n",
      "+---------+\n",
      "\n",
      "+-----+----+\n",
      "| Nama|Usia|\n",
      "+-----+----+\n",
      "| Dina|  45|\n",
      "|  Ali|  34|\n",
      "|Citra|  29|\n",
      "| Budi|  23|\n",
      "+-----+----+\n",
      "\n"
     ]
    }
   ],
   "source": [
    "from pyspark.sql import SparkSession\n",
    "\n",
    "# Memulai Spark session\n",
    "spark = SparkSession.builder.appName(\"BigDataPractice\").getOrCreate()\n",
    "\n",
    "# Membuat DataFrame sederhana\n",
    "data = [(\"Ali\", 34), (\"Budi\", 23), (\"Citra\", 29), (\"Dina\", 45)]\n",
    "columns = [\"Nama\", \"Usia\"]\n",
    "df = spark.createDataFrame(data, columns)\n",
    "\n",
    "# Menampilkan DataFrame\n",
    "df.show()\n",
    "\n",
    "# Filtering data\n",
    "df_filtered = df.filter(df['Usia'] > 20)\n",
    "df_filtered.show()\n",
    "\n",
    "# Menghitung rata-rata usia\n",
    "from pyspark.sql.functions import avg\n",
    "df.groupBy().agg(avg(\"Usia\")).show()\n",
    "\n",
    "# Mengurutkan data berdasarkan usia\n",
    "df_sorted = df.orderBy(\"Usia\", ascending=False)\n",
    "df_sorted.show()\n"
   ]
  },
  {
   "cell_type": "markdown",
   "id": "e06767bc",
   "metadata": {
    "id": "e06767bc"
   },
   "source": [
    "- **Tugas 2**: Lakukan filter, penghitungan rata-rata, dan pengurutan data menggunakan PySpark."
   ]
  },
  {
   "cell_type": "code",
   "execution_count": 19,
   "id": "e86b56f7",
   "metadata": {},
   "outputs": [
    {
     "name": "stdout",
     "output_type": "stream",
     "text": [
      "+-----+----+-----------+\n",
      "| Nama|Usia|TinggiBadan|\n",
      "+-----+----+-----------+\n",
      "|  Ali|  34|        150|\n",
      "| Budi|  23|        160|\n",
      "|Citra|  29|        170|\n",
      "| Dina|  45|        170|\n",
      "+-----+----+-----------+\n",
      "\n",
      "+-----+----+-----------+\n",
      "| Nama|Usia|TinggiBadan|\n",
      "+-----+----+-----------+\n",
      "|  Ali|  34|        150|\n",
      "| Budi|  23|        160|\n",
      "|Citra|  29|        170|\n",
      "| Dina|  45|        170|\n",
      "+-----+----+-----------+\n",
      "\n",
      "+---------+\n",
      "|avg(Usia)|\n",
      "+---------+\n",
      "|    32.75|\n",
      "+---------+\n",
      "\n",
      "+-----+----+-----------+\n",
      "| Nama|Usia|TinggiBadan|\n",
      "+-----+----+-----------+\n",
      "| Budi|  23|        160|\n",
      "|Citra|  29|        170|\n",
      "|  Ali|  34|        150|\n",
      "| Dina|  45|        170|\n",
      "+-----+----+-----------+\n",
      "\n"
     ]
    }
   ],
   "source": [
    "# Mengimpor SparkSession dari pustaka pyspark.sql\n",
    "from pyspark.sql import SparkSession\n",
    "\n",
    "# Memulai Spark session\n",
    "spark = SparkSession.builder.appName(\"BigDataPractice\").getOrCreate()\n",
    "\n",
    "# Membuat DataFrame sederhana\n",
    "data = [(\"Ali\", 34,150), (\"Budi\", 23,160), (\"Citra\",29, 170), (\"Dina\",45, 170)]\n",
    "columns = [\"Nama\", \"Usia\", \"TinggiBadan\"]\n",
    "df = spark.createDataFrame(data, columns)\n",
    "\n",
    "# Menampilkan DataFrame\n",
    "df.show()\n",
    "\n",
    "# Filtering data\n",
    "df_filtered = df.filter(df['Usia'] > 20)\n",
    "df_filtered.show()\n",
    "\n",
    "# Menghitung rata-rata usia\n",
    "from pyspark.sql.functions import avg\n",
    "df.groupBy().agg(avg(\"Usia\")).show()#Untuk penghitungan rata-rata\n",
    "\n",
    "# Mengurutkan data berdasarkan usia\n",
    "df_sorted = df.orderBy(\"Usia\", ascending=True)#ascending true artinya data urut dari yang paling kecil ke paling besar\n",
    "df_sorted.show()#untuk menampilkan data yang telah di sort\n"
   ]
  },
  {
   "cell_type": "markdown",
   "id": "fe1e34a5",
   "metadata": {
    "id": "fe1e34a5"
   },
   "source": [
    "### 4. Praktik dengan Pandas\n",
    "- **Latihan 2**:  Buat DataFrame menggunakan Pandas:"
   ]
  },
  {
   "cell_type": "code",
   "execution_count": 5,
   "id": "3f1f2ec1",
   "metadata": {
    "id": "3f1f2ec1"
   },
   "outputs": [
    {
     "data": {
      "text/html": [
       "<div>\n",
       "<style scoped>\n",
       "    .dataframe tbody tr th:only-of-type {\n",
       "        vertical-align: middle;\n",
       "    }\n",
       "\n",
       "    .dataframe tbody tr th {\n",
       "        vertical-align: top;\n",
       "    }\n",
       "\n",
       "    .dataframe thead th {\n",
       "        text-align: right;\n",
       "    }\n",
       "</style>\n",
       "<table border=\"1\" class=\"dataframe\">\n",
       "  <thead>\n",
       "    <tr style=\"text-align: right;\">\n",
       "      <th></th>\n",
       "      <th>Nama</th>\n",
       "      <th>Usia</th>\n",
       "    </tr>\n",
       "  </thead>\n",
       "  <tbody>\n",
       "    <tr>\n",
       "      <th>0</th>\n",
       "      <td>Ali</td>\n",
       "      <td>34</td>\n",
       "    </tr>\n",
       "    <tr>\n",
       "      <th>1</th>\n",
       "      <td>Budi</td>\n",
       "      <td>23</td>\n",
       "    </tr>\n",
       "    <tr>\n",
       "      <th>2</th>\n",
       "      <td>Citra</td>\n",
       "      <td>29</td>\n",
       "    </tr>\n",
       "    <tr>\n",
       "      <th>3</th>\n",
       "      <td>Dina</td>\n",
       "      <td>45</td>\n",
       "    </tr>\n",
       "  </tbody>\n",
       "</table>\n",
       "</div>"
      ],
      "text/plain": [
       "    Nama  Usia\n",
       "0    Ali    34\n",
       "1   Budi    23\n",
       "2  Citra    29\n",
       "3   Dina    45"
      ]
     },
     "execution_count": 5,
     "metadata": {},
     "output_type": "execute_result"
    }
   ],
   "source": [
    "import pandas as pd\n",
    "\n",
    "# Membuat DataFrame Pandas\n",
    "data_pandas = {\"Nama\": [\"Ali\", \"Budi\", \"Citra\", \"Dina\"], \"Usia\": [34, 23, 29, 45]}\n",
    "df_pandas = pd.DataFrame(data_pandas)\n",
    "\n",
    "# Menampilkan DataFrame Pandas\n",
    "df_pandas"
   ]
  },
  {
   "cell_type": "markdown",
   "id": "9da455f1",
   "metadata": {
    "id": "9da455f1"
   },
   "source": [
    "- **Tugas 3**: Modifikasi DataFrame Pandas dengan menambahkan kolom baru dan melakukan operasi seperti filtering data berdasarkan usia."
   ]
  },
  {
   "cell_type": "code",
   "execution_count": 13,
   "id": "59e40cdc",
   "metadata": {},
   "outputs": [
    {
     "name": "stdout",
     "output_type": "stream",
     "text": [
      "======================================================================\n",
      "DataFrame awal:\n",
      "    Nama  Usia  TinggiBadan\n",
      "0    Ali    34          150\n",
      "1   Budi    23          160\n",
      "2  Citra    29          170\n",
      "3   Dina    45          180\n",
      "======================================================================\n",
      "DataFrame setelah filtering berdasarkan usia > 30:\n",
      "   Nama  Usia  TinggiBadan\n",
      "0   Ali    34          150\n",
      "3  Dina    45          180\n",
      "======================================================================\n",
      "DataFrame setelah filtering berdasarkan Tinggibadan > 160:\n",
      "    Nama  Usia  TinggiBadan\n",
      "2  Citra    29          170\n",
      "3   Dina    45          180\n",
      "======================================================================\n",
      "Rata-rata TB adalah: 165.0\n",
      "======================================================================\n"
     ]
    }
   ],
   "source": [
    "# Mengimpor pustaka Pandas\n",
    "import pandas as pd\n",
    "\n",
    "# Membuat DataFrame Pandas dengan data berupa nama dan usia\n",
    "data_pandas = {\"Nama\": [\"Ali\", \"Budi\", \"Citra\", \"Dina\"], \n",
    "               \"Usia\": [34, 23, 29, 45],\n",
    "               \"TinggiBadan\": [150,160,170,180]}\n",
    "\n",
    "# Mengubah data menjadi DataFrame Pandas\n",
    "df_pandas = pd.DataFrame(data_pandas)\n",
    "\n",
    "# Menampilkan DataFrame Pandas awal sebelum filtering\n",
    "print(\"=\"*70)\n",
    "print(\"DataFrame awal:\")\n",
    "print(df_pandas)\n",
    "\n",
    "# Filtering: Memilih baris di mana kolom 'Usia' memiliki nilai lebih dari 30\n",
    "df_filtered = df_pandas[df_pandas[\"Usia\"] > 30]\n",
    "\n",
    "# Menampilkan DataFrame setelah dilakukan filtering berdasarkan usia\n",
    "print(\"=\"*70)\n",
    "print(\"DataFrame setelah filtering berdasarkan usia > 30:\")\n",
    "print(df_filtered)\n",
    "\n",
    "# Filtering: Memilih baris di mana kolom 'TInggiBadan' memiliki tinggi lebih dari 160\n",
    "df_filtered_tinggi = df_pandas[df_pandas[\"TinggiBadan\"] > 160]\n",
    "\n",
    "# Menampilkan DataFrame setelah dilakukan filtering berdasarkan usia\n",
    "print(\"=\"*70)\n",
    "print(\"DataFrame setelah filtering berdasarkan Tinggibadan > 160:\")\n",
    "print(df_filtered_tinggi)\n",
    "\n",
    "# Menghitung rata-rata TinggiBadan dari DataFrame awal\n",
    "rata_tinggi = df_pandas[\"TinggiBadan\"].mean()\n",
    "\n",
    "# Menampilkan hasil rata-rata TinggiBadan\n",
    "print(\"=\"*70)\n",
    "print(\"Rata-rata TB adalah:\", rata_tinggi)\n",
    "print(\"=\"*70)\n"
   ]
  },
  {
   "cell_type": "markdown",
   "id": "c0042b2b",
   "metadata": {
    "id": "c0042b2b"
   },
   "source": [
    "### 5. Praktik Pandas Lanjutan\n",
    "- **Latihan 3**: Penggunaan Pandas untuk operasi lebih kompleks."
   ]
  },
  {
   "cell_type": "code",
   "execution_count": 14,
   "id": "e7a8142f",
   "metadata": {
    "id": "e7a8142f"
   },
   "outputs": [
    {
     "name": "stdout",
     "output_type": "stream",
     "text": [
      "    Nama  Usia Pekerjaan\n",
      "0    Ali    34    Dokter\n",
      "1   Budi    23      Guru\n",
      "2  Citra    29  Insinyur\n",
      "3   Dina    45   Perawat\n",
      "            Usia\n",
      "count   4.000000\n",
      "mean   32.750000\n",
      "std     9.322911\n",
      "min    23.000000\n",
      "25%    27.500000\n",
      "50%    31.500000\n",
      "75%    36.750000\n",
      "max    45.000000\n"
     ]
    },
    {
     "data": {
      "image/png": "[encoded data removed]",
      "text/plain": [
       "<Figure size 640x480 with 1 Axes>"
      ]
     },
     "metadata": {},
     "output_type": "display_data"
    }
   ],
   "source": [
    "import pandas as pd\n",
    "\n",
    "# Membuat DataFrame Pandas\n",
    "data_pandas = {\"Nama\": [\"Ali\", \"Budi\", \"Citra\", \"Dina\"], \"Usia\": [34, 23, 29, 45]}\n",
    "df_pandas = pd.DataFrame(data_pandas)\n",
    "\n",
    "# Membuat DataFrame kedua\n",
    "data_pandas_2 = {\"Nama\": [\"Ali\", \"Budi\", \"Citra\", \"Dina\"], \"Pekerjaan\": [\"Dokter\", \"Guru\", \"Insinyur\", \"Perawat\"]}\n",
    "df_pandas_2 = pd.DataFrame(data_pandas_2)\n",
    "\n",
    "# Join antara dua DataFrame\n",
    "df_joined = pd.merge(df_pandas, df_pandas_2, on=\"Nama\")\n",
    "print(df_joined)\n",
    "\n",
    "# Menghitung statistik deskriptif\n",
    "print(df_pandas.describe())\n",
    "\n",
    "# Plotting Data\n",
    "import matplotlib.pyplot as plt\n",
    "df_pandas['Usia'].plot(kind='bar')\n",
    "plt.show()\n"
   ]
  },
  {
   "cell_type": "markdown",
   "id": "f53a5ab6",
   "metadata": {},
   "source": [
    "Dari statistik diatas diketahui data ke-0 \"Ali\" memiliki umur 34 sehingga grafik menunjukkan 30 lebih sedikit. Data ke-1 \"Budi berumur 23 sehingga grafik menunjukkan 20 lebih sedikit. Data ke-3 \"Citra\" memiliki umur 29 sehinnga grafik menunjukkan hampir ke angka 30. Data ke-4 \"Dina\" berusia 45 sehingga grafik yang dihasilkan menghasilkan 40 lebih."
   ]
  },
  {
   "cell_type": "markdown",
   "id": "884ed75d",
   "metadata": {
    "id": "884ed75d"
   },
   "source": [
    "- **Tugas 4**: Lakukan penggabungan DataFrame dan visualisasikan data dengan Pandas."
   ]
  },
  {
   "cell_type": "code",
   "execution_count": 25,
   "id": "9a7b8b0d",
   "metadata": {},
   "outputs": [
    {
     "name": "stdout",
     "output_type": "stream",
     "text": [
      "      Nama  Usia  TinggiBadan Pekerjaan\n",
      "0     Joko    34          150    Dokter\n",
      "1   Susilo    23          160      Guru\n",
      "2  Bambang    29          170  Insinyur\n",
      "3    Yudho    45          170   Perawat\n",
      "            Usia  TinggiBadan\n",
      "count   4.000000     4.000000\n",
      "mean   32.750000   162.500000\n",
      "std     9.322911     9.574271\n",
      "min    23.000000   150.000000\n",
      "25%    27.500000   157.500000\n",
      "50%    31.500000   165.000000\n",
      "75%    36.750000   170.000000\n",
      "max    45.000000   170.000000\n"
     ]
    },
    {
     "data": {
      "image/png": "[encoded data removed]",
      "text/plain": [
       "<Figure size 640x480 with 1 Axes>"
      ]
     },
     "metadata": {},
     "output_type": "display_data"
    }
   ],
   "source": [
    "import pandas as pd\n",
    "\n",
    "# Membuat DataFrame Pandas\n",
    "data_pandas = {\"Nama\": [\"Joko\", \"Susilo\", \"Bambang\", \"Yudho\"], \"Usia\": [34, 23, 29, 45], \"TinggiBadan\":[150,160,170,170]}\n",
    "df_pandas = pd.DataFrame(data_pandas)\n",
    "\n",
    "# Membuat DataFrame kedua\n",
    "data_pandas_2 = {\"Nama\": [\"Joko\", \"Susilo\", \"Bambang\", \"Yudho\"], \"Pekerjaan\": [\"Dokter\", \"Guru\", \"Insinyur\", \"Perawat\"]}\n",
    "df_pandas_2 = pd.DataFrame(data_pandas_2)\n",
    "\n",
    "# Join antara dua DataFrame\n",
    "df_joined = pd.merge(df_pandas, df_pandas_2, on=\"Nama\")\n",
    "print(df_joined)\n",
    "\n",
    "# Menghitung statistik deskriptif\n",
    "print(df_pandas.describe())\n",
    "\n",
    "# Plotting Data\n",
    "import matplotlib.pyplot as plt\n",
    "df_pandas['TinggiBadan'].plot(kind='bar')\n",
    "plt.show()\n"
   ]
  },
  {
   "cell_type": "markdown",
   "id": "4765b976",
   "metadata": {},
   "source": [
    "Dari statistik diatas diketahui data ke-0 \"Ali\" memiliki tinggi 150 sehingga grafik menunjukkan 140 lebih dan kurang dari 160. Data ke-1 \"Budi dengan tinggi badan 160 sehingga grafik menunjukkan angka 160. Data ke-3 \"Citra\" memiliki tinggi 170 sehinnga grafik menunjukkan ke angka 160 lebih. Data ke-4 \"Dina\" tinggi 170 sehinnga grafik menunjukkan ke angka 160 lebih."
   ]
  },
  {
   "cell_type": "markdown",
   "id": "bf671ba3",
   "metadata": {
    "id": "bf671ba3"
   },
   "source": [
    "### 5. Menggabungkan PySpark dan Pandas\n",
    "- **Latihan 4: Mengonversi DataFrame antara PySpark dan Pandas**\n",
    "  Praktik untuk convert DataFrame dari PySpark ke Pandas dan sebaliknya:\n"
   ]
  },
  {
   "cell_type": "code",
   "execution_count": 31,
   "id": "337e123f",
   "metadata": {
    "id": "337e123f"
   },
   "outputs": [],
   "source": [
    "# Mengonversi DataFrame dari PySpark ke Pandas\n",
    "df_pandas_from_spark = df.toPandas()\n",
    "\n",
    "# Mengonversi DataFrame dari Pandas ke PySpark\n",
    "df_spark_from_pandas = spark.createDataFrame(df_pandas)"
   ]
  },
  {
   "cell_type": "markdown",
   "id": "b000d100",
   "metadata": {},
   "source": [
    "Perintah di bawah untuk menampilkan data dalam bentuk pandas dari data spark diatas"
   ]
  },
  {
   "cell_type": "code",
   "execution_count": 32,
   "id": "2eb312e5",
   "metadata": {},
   "outputs": [
    {
     "data": {
      "text/html": [
       "<div>\n",
       "<style scoped>\n",
       "    .dataframe tbody tr th:only-of-type {\n",
       "        vertical-align: middle;\n",
       "    }\n",
       "\n",
       "    .dataframe tbody tr th {\n",
       "        vertical-align: top;\n",
       "    }\n",
       "\n",
       "    .dataframe thead th {\n",
       "        text-align: right;\n",
       "    }\n",
       "</style>\n",
       "<table border=\"1\" class=\"dataframe\">\n",
       "  <thead>\n",
       "    <tr style=\"text-align: right;\">\n",
       "      <th></th>\n",
       "      <th>Nama</th>\n",
       "      <th>Usia</th>\n",
       "      <th>TinggiBadan</th>\n",
       "    </tr>\n",
       "  </thead>\n",
       "  <tbody>\n",
       "    <tr>\n",
       "      <th>0</th>\n",
       "      <td>Ali</td>\n",
       "      <td>34</td>\n",
       "      <td>150</td>\n",
       "    </tr>\n",
       "    <tr>\n",
       "      <th>1</th>\n",
       "      <td>Budi</td>\n",
       "      <td>23</td>\n",
       "      <td>160</td>\n",
       "    </tr>\n",
       "    <tr>\n",
       "      <th>2</th>\n",
       "      <td>Citra</td>\n",
       "      <td>29</td>\n",
       "      <td>170</td>\n",
       "    </tr>\n",
       "    <tr>\n",
       "      <th>3</th>\n",
       "      <td>Dina</td>\n",
       "      <td>45</td>\n",
       "      <td>170</td>\n",
       "    </tr>\n",
       "  </tbody>\n",
       "</table>\n",
       "</div>"
      ],
      "text/plain": [
       "    Nama  Usia  TinggiBadan\n",
       "0    Ali    34          150\n",
       "1   Budi    23          160\n",
       "2  Citra    29          170\n",
       "3   Dina    45          170"
      ]
     },
     "execution_count": 32,
     "metadata": {},
     "output_type": "execute_result"
    }
   ],
   "source": [
    "# Menampilkan DataFrame hasil konversi\n",
    "df_pandas_from_spark"
   ]
  },
  {
   "cell_type": "markdown",
   "id": "d800107f",
   "metadata": {},
   "source": [
    "Perintah di bawah untuk menampilkan data dalam bentuk spark dari data pandas diatas"
   ]
  },
  {
   "cell_type": "code",
   "execution_count": 29,
   "id": "a63cf96d",
   "metadata": {},
   "outputs": [
    {
     "name": "stdout",
     "output_type": "stream",
     "text": [
      "+-------+----+-----------+\n",
      "|   Nama|Usia|TinggiBadan|\n",
      "+-------+----+-----------+\n",
      "|   Joko|  34|        150|\n",
      "| Susilo|  23|        160|\n",
      "|Bambang|  29|        170|\n",
      "|  Yudho|  45|        170|\n",
      "+-------+----+-----------+\n",
      "\n"
     ]
    }
   ],
   "source": [
    "df_spark_from_pandas.show()"
   ]
  },
  {
   "cell_type": "markdown",
   "id": "2cba4e5c",
   "metadata": {
    "id": "2cba4e5c"
   },
   "source": [
    "- **Tugas 5**: Gunakan metode ini untuk menggabungkan data yang Anda buat di PySpark dengan data dari Pandas, kemudian lakukan analisis sederhana seperti menghitung rata-rata usia."
   ]
  },
  {
   "cell_type": "code",
   "execution_count": 35,
   "id": "6d9b9210",
   "metadata": {},
   "outputs": [
    {
     "name": "stdout",
     "output_type": "stream",
     "text": [
      "+-------+----+-----------+\n",
      "|   Nama|Usia|TinggiBadan|\n",
      "+-------+----+-----------+\n",
      "|    Ali|  34|        150|\n",
      "|   Budi|  23|        160|\n",
      "|  Citra|  29|        170|\n",
      "|   Dina|  45|        170|\n",
      "|   Joko|  34|        150|\n",
      "| Susilo|  23|        160|\n",
      "|Bambang|  29|        170|\n",
      "|  Yudho|  45|        170|\n",
      "+-------+----+-----------+\n",
      "\n",
      "+---------+\n",
      "|avg(Usia)|\n",
      "+---------+\n",
      "|    32.75|\n",
      "+---------+\n",
      "\n"
     ]
    }
   ],
   "source": [
    "\n",
    "# Gabungkan kedua DataFrame\n",
    "df_combined = df.union(df_spark_from_pandas)\n",
    "df_combined.show()\n",
    "\n",
    "# Analisis: Menghitung rata-rata usia\n",
    "df_combined.groupBy().avg(\"Usia\").show()\n"
   ]
  },
  {
   "cell_type": "markdown",
   "id": "afdba6be",
   "metadata": {
    "id": "afdba6be"
   },
   "source": [
    "### 6. Konversi Data antara PySpark dan Pandas"
   ]
  },
  {
   "cell_type": "code",
   "execution_count": 52,
   "id": "f863defc",
   "metadata": {
    "id": "f863defc"
   },
   "outputs": [],
   "source": [
    "# Mengonversi DataFrame dari PySpark ke Pandas\n",
    "df_pandas_from_spark = df.toPandas()\n",
    "\n",
    "# Mengonversi DataFrame dari Pandas ke PySpark\n",
    "df_spark_from_pandas = spark.createDataFrame(df_pandas)\n",
    "\n"
   ]
  },
  {
   "cell_type": "code",
   "execution_count": 53,
   "id": "e5830558",
   "metadata": {},
   "outputs": [
    {
     "data": {
      "text/html": [
       "<div>\n",
       "<style scoped>\n",
       "    .dataframe tbody tr th:only-of-type {\n",
       "        vertical-align: middle;\n",
       "    }\n",
       "\n",
       "    .dataframe tbody tr th {\n",
       "        vertical-align: top;\n",
       "    }\n",
       "\n",
       "    .dataframe thead th {\n",
       "        text-align: right;\n",
       "    }\n",
       "</style>\n",
       "<table border=\"1\" class=\"dataframe\">\n",
       "  <thead>\n",
       "    <tr style=\"text-align: right;\">\n",
       "      <th></th>\n",
       "      <th>Nama</th>\n",
       "      <th>Usia</th>\n",
       "      <th>TinggiBadan</th>\n",
       "    </tr>\n",
       "  </thead>\n",
       "  <tbody>\n",
       "    <tr>\n",
       "      <th>0</th>\n",
       "      <td>Ali</td>\n",
       "      <td>34</td>\n",
       "      <td>150</td>\n",
       "    </tr>\n",
       "    <tr>\n",
       "      <th>1</th>\n",
       "      <td>Budi</td>\n",
       "      <td>23</td>\n",
       "      <td>160</td>\n",
       "    </tr>\n",
       "    <tr>\n",
       "      <th>2</th>\n",
       "      <td>Citra</td>\n",
       "      <td>29</td>\n",
       "      <td>170</td>\n",
       "    </tr>\n",
       "    <tr>\n",
       "      <th>3</th>\n",
       "      <td>Dina</td>\n",
       "      <td>45</td>\n",
       "      <td>170</td>\n",
       "    </tr>\n",
       "  </tbody>\n",
       "</table>\n",
       "</div>"
      ],
      "text/plain": [
       "    Nama  Usia  TinggiBadan\n",
       "0    Ali    34          150\n",
       "1   Budi    23          160\n",
       "2  Citra    29          170\n",
       "3   Dina    45          170"
      ]
     },
     "execution_count": 53,
     "metadata": {},
     "output_type": "execute_result"
    }
   ],
   "source": [
    "df_pandas_from_spark# Menampilkan DataFrame hasil konversi"
   ]
  },
  {
   "cell_type": "code",
   "execution_count": 51,
   "id": "ff5667b5",
   "metadata": {},
   "outputs": [
    {
     "name": "stdout",
     "output_type": "stream",
     "text": [
      "+-------+----+-----------+\n",
      "|   Nama|Usia|TinggiBadan|\n",
      "+-------+----+-----------+\n",
      "|   Joko|  34|        150|\n",
      "| Susilo|  23|        160|\n",
      "|Bambang|  29|        170|\n",
      "|  Yudho|  45|        170|\n",
      "+-------+----+-----------+\n",
      "\n"
     ]
    }
   ],
   "source": [
    "df_spark_from_pandas.show()# Menampilkan DataFrame hasil konversi"
   ]
  },
  {
   "cell_type": "markdown",
   "id": "65adbe71",
   "metadata": {
    "id": "65adbe71"
   },
   "source": [
    "- **Tugas 6**: Gabungkan data dari PySpark dan Pandas, lalu lakukan operasi statistik seperti menghitung nilai maksimum usia."
   ]
  },
  {
   "cell_type": "code",
   "execution_count": 57,
   "id": "de7e85dc",
   "metadata": {},
   "outputs": [
    {
     "name": "stdout",
     "output_type": "stream",
     "text": [
      "+-------+----+-----------+\n",
      "|   Nama|Usia|TinggiBadan|\n",
      "+-------+----+-----------+\n",
      "|    Ali|  34|        150|\n",
      "|   Budi|  23|        160|\n",
      "|  Citra|  29|        170|\n",
      "|   Dina|  45|        170|\n",
      "|   Joko|  34|        150|\n",
      "| Susilo|  23|        160|\n",
      "|Bambang|  29|        170|\n",
      "|  Yudho|  45|        170|\n",
      "+-------+----+-----------+\n",
      "\n",
      "            Usia  TinggiBadan\n",
      "count   8.000000     8.000000\n",
      "mean   32.750000   162.500000\n",
      "std     8.631338     8.864053\n",
      "min    23.000000   150.000000\n",
      "25%    27.500000   157.500000\n",
      "50%    31.500000   165.000000\n",
      "75%    36.750000   170.000000\n",
      "max    45.000000   170.000000\n"
     ]
    }
   ],
   "source": [
    "# Gabungkan kedua DataFrame PySpark\n",
    "df_combined = df.union(df_spark_from_pandas)\n",
    "\n",
    "# Menampilkan DataFrame gabungan\n",
    "df_combined.show()\n",
    "\n",
    "# mengubah kombinasi ke pandas\n",
    "df_pandas_from_combined = df_combined.toPandas()\n",
    "df_pandas_from_combined\n",
    "\n",
    "print(df_pandas_from_combined.describe())#Untuk menghitung nilai maksimum usia"
   ]
  }
 ],
 "metadata": {
  "colab": {
   "provenance": []
  },
  "kernelspec": {
   "display_name": "Python 3 (ipykernel)",
   "language": "python",
   "name": "python3"
  },
  "language_info": {
   "codemirror_mode": {
    "name": "ipython",
    "version": 3
   },
   "file_extension": ".py",
   "mimetype": "text/x-python",
   "name": "python",
   "nbconvert_exporter": "python",
   "pygments_lexer": "ipython3",
   "version": "3.11.9"
  }
 },
 "nbformat": 4,
 "nbformat_minor": 5
}
